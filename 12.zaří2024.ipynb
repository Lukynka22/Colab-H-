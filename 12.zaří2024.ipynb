{
  "nbformat": 4,
  "nbformat_minor": 0,
  "metadata": {
    "colab": {
      "provenance": [],
      "authorship_tag": "ABX9TyMcUEujGLabhBaMKIjylAiB",
      "include_colab_link": true
    },
    "kernelspec": {
      "name": "python3",
      "display_name": "Python 3"
    },
    "language_info": {
      "name": "python"
    }
  },
  "cells": [
    {
      "cell_type": "markdown",
      "metadata": {
        "id": "view-in-github",
        "colab_type": "text"
      },
      "source": [
        "<a href=\"https://colab.research.google.com/github/Lukynka22/Sneakershop/blob/main/12.za%C5%99%C3%AD2024.ipynb\" target=\"_parent\"><img src=\"https://colab.research.google.com/assets/colab-badge.svg\" alt=\"Open In Colab\"/></a>"
      ]
    },
    {
      "cell_type": "markdown",
      "source": [
        "Jméno, Příjmení a věk za pouití class, init self, property, setter\n"
      ],
      "metadata": {
        "id": "6UK8LaGDRvti"
      }
    },
    {
      "cell_type": "code",
      "execution_count": 2,
      "metadata": {
        "id": "ad79BLbRP56P"
      },
      "outputs": [],
      "source": [
        "class Person:\n",
        "  def __init__(self,jmeno,prijmeni,vek):\n",
        "    self.jmeno = jmeno\n",
        "    self.prijmeni = prijmeni\n",
        "    self.vek = vek\n",
        "\n",
        "    def plne_jmeno(self):\n",
        "      return self.jmeno + \"\" + self.prijmeni\n",
        "\n",
        "    def zestarnout(self):\n",
        "      self.vek += 1\n",
        "\n",
        "\n",
        "    @property\n",
        "    def jmeno(self):\n",
        "      return self._jmeno\n",
        "\n",
        "    @jmeno.setter\n",
        "    def jmeno(self, jmeno):\n",
        "      if not isinstance(jmeno, str):\n",
        "          raise TypeError(\"Jmeno musi byt řetezec\")\n",
        "      self._jmeno = jmeno\n",
        "\n",
        "\n",
        "    @property\n",
        "    def prijmeni(self):\n",
        "      return self._prijmeni\n",
        "\n",
        "    @prijmeni.setter\n",
        "    def prijmeni(self, prijmeni):\n",
        "      if not isinstance(prijmeni, str):\n",
        "          raise TypeError(\"Prijmeni musi byt řetezec\")\n",
        "      self._prijmeni = prijmeni\n",
        "\n",
        "\n",
        "    @property\n",
        "    def vek(self):\n",
        "      return self._vek\n",
        "\n",
        "    @vek.setter\n",
        "    def vek(self, vek):\n",
        "      if not isinstance(vek, str):\n",
        "          raise TypeError(\"vek musi byt cele cislo\")\n",
        "      if vek < 0:\n",
        "          raise TypeError(\"vek musi byt nezaporné čislo\")\n",
        "      self._vek = vek"
      ]
    },
    {
      "cell_type": "markdown",
      "source": [
        "Třída pro správu knih"
      ],
      "metadata": {
        "id": "-vZi1ZR-SCG8"
      }
    },
    {
      "cell_type": "code",
      "source": [
        "import datetime #pro zobrazení aktualního času (knihovna)\n",
        "\n",
        "class Kniha:\n",
        "    def __init__(self,nazev,autor,rok_vydani):\n",
        "      self.nazev = nazev\n",
        "      self.autor = autor\n",
        "      self.rok_vydani = rok_vydani\n",
        "\n",
        "    def info(self):\n",
        "        return f\"{self.nazev} ({self.rok_vydani}), {self.autor}\"\n",
        "\n",
        "    def stari (self):\n",
        "        aktualni_rok = datetime.datetime.now().year\n",
        "        return aktualni_rok - self.rok_vydani\n",
        "\n",
        "K1 = Kniha(\"Harry Potter\", \"J.K. Rowling\", 1997)\n",
        "print (K1.info())\n",
        "print (K1.stari())\n",
        "\n",
        "class Knihovna:\n",
        "  def __init__(self, seznam_knih=[]):\n",
        "      self.seznam_knih = seznam_knih\n",
        "\n",
        "  def pridat_knihu(self,kniha):\n",
        "      self.knihy.append(kniha)\n",
        "\n",
        "  def vypis_knihy(self):\n",
        "      for kniha in self.seznam_knih:\n",
        "        print(kniha.info())\n",
        "\n",
        "  def vyhledat_knihu(self,nazev):\n",
        "      for kniha in self.seznam_knih:\n",
        "        if kniha.nazev == nazev:\n",
        "          return kniha.info()\n",
        "      return \"Kniha nenalezena\"\n",
        "\n"
      ],
      "metadata": {
        "colab": {
          "base_uri": "https://localhost:8080/"
        },
        "id": "4HlB83LCSBM4",
        "outputId": "74148f9f-e5fe-4d46-b57a-331cdc3f8519"
      },
      "execution_count": 7,
      "outputs": [
        {
          "output_type": "stream",
          "name": "stdout",
          "text": [
            "Harry Potter (1997), J.K. Rowling\n",
            "27\n"
          ]
        }
      ]
    }
  ]
}