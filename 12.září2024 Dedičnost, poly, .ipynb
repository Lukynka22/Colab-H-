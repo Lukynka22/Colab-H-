{
  "nbformat": 4,
  "nbformat_minor": 0,
  "metadata": {
    "colab": {
      "provenance": [],
      "authorship_tag": "ABX9TyPAGuqVgkgrGIUn9dnYlW6W",
      "include_colab_link": true
    },
    "kernelspec": {
      "name": "python3",
      "display_name": "Python 3"
    },
    "language_info": {
      "name": "python"
    }
  },
  "cells": [
    {
      "cell_type": "markdown",
      "metadata": {
        "id": "view-in-github",
        "colab_type": "text"
      },
      "source": [
        "<a href=\"https://colab.research.google.com/github/Lukynka22/Sneakershop/blob/main/12.z%C3%A1%C5%99%C3%AD2024%20Dedi%C4%8Dnost%2C%20poly%2C%20.ipynb\" target=\"_parent\"><img src=\"https://colab.research.google.com/assets/colab-badge.svg\" alt=\"Open In Colab\"/></a>"
      ]
    },
    {
      "cell_type": "markdown",
      "source": [
        "bankovní učet"
      ],
      "metadata": {
        "id": "TW7Jy6j9jz3p"
      }
    },
    {
      "cell_type": "code",
      "execution_count": 10,
      "metadata": {
        "colab": {
          "base_uri": "https://localhost:8080/"
        },
        "id": "A-nBhy7shrbg",
        "outputId": "627a73e0-d157-4d9e-d338-110905d3c1ea"
      },
      "outputs": [
        {
          "output_type": "stream",
          "name": "stdout",
          "text": [
            "Lukáš\n",
            " Váš zůstatek je: 1000 Kč\n",
            " Váš zůstatek je: 900 Kč\n",
            "František\n",
            " Váš zůstatek je: 2000 Kč\n",
            " Váš zůstatek je: 800 Kč\n",
            " Váš zůstatek je: 2100 Kč\n"
          ]
        }
      ],
      "source": [
        "class BankovniUcet:\n",
        "  def __init__ (self, majitel, zustatek):\n",
        "    self.majitel = majitel\n",
        "    self.zustatek = zustatek\n",
        "\n",
        "  def vložit(self, castka):\n",
        "    self.zustatek += castka\n",
        "\n",
        "  def vybrat(self, castka):\n",
        "    self.zustatek -= castka\n",
        "\n",
        "  def stav_uctu(self):\n",
        "    return f\" Váš zůstatek je: {self.zustatek} Kč\"\n",
        "\n",
        "  def prevod (self,ucet, castka):\n",
        "    self.zustatek -= castka\n",
        "    ucet.zustatek += castka\n",
        "\n",
        "B1 = BankovniUcet (\"Lukáš\", 1000)\n",
        "B2 = BankovniUcet (\"František\", 2000)\n",
        "print(B1.majitel)\n",
        "print(B1.stav_uctu())\n",
        "B1.vybrat(100)\n",
        "print(B1.stav_uctu())\n",
        "print(B2.majitel)\n",
        "print(B2.stav_uctu())\n",
        "B1.prevod(B2, 100)\n",
        "print(B1.stav_uctu())\n",
        "print(B2.stav_uctu())\n",
        "\n"
      ]
    },
    {
      "cell_type": "markdown",
      "source": [
        "Zvíře"
      ],
      "metadata": {
        "id": "gH8pfZE2kaH7"
      }
    },
    {
      "cell_type": "code",
      "source": [
        "class Zvire:\n",
        "  def __init__(self, jmeno, druh, vek):\n",
        "    self.jmeno = jmeno\n",
        "    self.druh = druh\n",
        "    self.vek = vek\n",
        "\n",
        "  def zvuk (self):\n",
        "    return \"Řvu!\"\n",
        "\n",
        "class pes(Zvire):\n",
        "  def __init__(self, jmeno, druh, vek, rasa):\n",
        "    super().__init__(jmeno, \"pes\", vek)\n",
        "    self.rasa = rasa\n",
        "\n",
        "  def zvuk (self):\n",
        "    return \"Haf!\"\n",
        "\n",
        "class kočka(Zvire):\n",
        "  def __init__(self, jmeno, druh, vek, barva):\n",
        "    super().__init__(jmeno, \"kočka\", vek)\n",
        "    self.barva = barva\n",
        "\n",
        "  def zvuk (self):\n",
        "    return \"Mňau!\"\n",
        "\n",
        "class slon(Zvire):\n",
        "  def __init__(self, jmeno, druh, vek, velikost):\n",
        "    super().__init__(jmeno, \"slon\", vek)\n",
        "    self.velikost = velikost\n",
        "\n",
        "  def zvuk (self):\n",
        "    return \"Tutu!\""
      ],
      "metadata": {
        "id": "7N69BIYJkcU2"
      },
      "execution_count": 12,
      "outputs": []
    },
    {
      "cell_type": "markdown",
      "source": [
        "Automobilový park"
      ],
      "metadata": {
        "id": "bgFvqvtxoeVM"
      }
    },
    {
      "cell_type": "code",
      "source": [
        "\n",
        "\n",
        "class Auto:\n",
        "  SERVIS_KM = 50000\n",
        "  def __init__(self, znacka, model, rok_vyroby, stav=0):\n",
        "    self.znacka = znacka\n",
        "    self.model = model\n",
        "    self.rok_vyroby = rok_vyroby\n",
        "    self.stav = stav\n",
        "    self.posledni_servis = stav\n",
        "\n",
        "  def najeto(self, stav):\n",
        "    self.stav += stav\n",
        "    return self.stav\n",
        "\n",
        "  def informace (self):\n",
        "    return f\"Informace o autě:{self.znacka} {self.model} {self.rok_vyroby} {self.stav}\"\n",
        "\n",
        "  def servis (self):\n",
        "    if self.stav - self.posledni_servis >= Auto.SERVIS_KM:\n",
        "        self.posledni_servis = self.stav\n",
        "        return \"Servis proveden\"\n",
        "    else:\n",
        "        return \"Není potřeba provedení servisu\"\n",
        "\n",
        "\n",
        "\n",
        "\n",
        "\n",
        "\n",
        "\n",
        "A1 = Auto (\"Škoda\", \"Fabia\", \"2012\", 100000)\n",
        "print(A1.informace())\n",
        "print(A1.servis())\n",
        "\n",
        "A1.stav\n",
        "\n",
        "\n",
        "\n"
      ],
      "metadata": {
        "colab": {
          "base_uri": "https://localhost:8080/"
        },
        "id": "xS8btHwHogrn",
        "outputId": "104f1b91-17b9-4c74-eab3-918ae9e260e8"
      },
      "execution_count": 42,
      "outputs": [
        {
          "output_type": "stream",
          "name": "stdout",
          "text": [
            "Informace o autě:Škoda Fabia 2012 100000\n",
            "Není potřeba provedení servisu\n"
          ]
        },
        {
          "output_type": "execute_result",
          "data": {
            "text/plain": [
              "100000"
            ]
          },
          "metadata": {},
          "execution_count": 42
        }
      ]
    }
  ]
}